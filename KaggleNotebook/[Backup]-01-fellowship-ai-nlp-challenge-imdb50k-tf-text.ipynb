{
 "cells": [
  {
   "cell_type": "markdown",
   "id": "67b6ff2b",
   "metadata": {
    "papermill": {
     "duration": 0.007761,
     "end_time": "2024-09-26T16:38:32.754226",
     "exception": false,
     "start_time": "2024-09-26T16:38:32.746465",
     "status": "completed"
    },
    "tags": []
   },
   "source": [
    "## Sentiment Analysis\n",
    "### Using IMDB Dataset of 50K Movie Reviews\n",
    "\n",
    "A Fellowship.AI Code Challenge Submission By [@arjunraghunandanan](https://www.kaggle.com/arjunraghunandanan)\n",
    "\n",
    "www.arjunraghunandanan.com | September 2024 \n",
    "\n",
    "---\n",
    "\n",
    "This is a final submission **public notebook** after experimentations in several other private notebooks in kaggle / google colab / python scripts. Only the final solution code is presented here. \n",
    "\n",
    "\n",
    "### About the Data\n",
    "\n",
    "**Dataset:**\n",
    "\n",
    "IMDB Dataset of 50K Movie Reviews\n",
    "\n",
    "**Description of Original Dataset**\n",
    "\n",
    "This dataset is designed for binary sentiment classification (positive or negative) of movie reviews. It contains a significantly larger amount of data than previous benchmark datasets. The dataset is split into 25,000 reviews for training and 25,000 for testing.  Additionally, there is unlabeled data that can be utilized. The dataset is available in both raw text format and a processed bag-of-words format.\n",
    "\n",
    "**Source:**\n",
    "* Lakshmipathi N [lakshmi25npathi]. IMDB Dataset of 50K Movie Reviews. kaggle.com\n",
    "* [kaggle.com/datasets/lakshmi25npathi/imdb-dataset-of-50k-movie-reviews](https://www.kaggle.com/datasets/lakshmi25npathi/imdb-dataset-of-50k-movie-reviews)\n",
    "* Original Dataset: ai.stanford.edu/~amaas/data/sentiment/\n",
    "---"
   ]
  },
  {
   "cell_type": "code",
   "execution_count": 1,
   "id": "f1cb4a01",
   "metadata": {
    "execution": {
     "iopub.execute_input": "2024-09-26T16:38:32.771260Z",
     "iopub.status.busy": "2024-09-26T16:38:32.770339Z",
     "iopub.status.idle": "2024-09-26T16:38:32.775671Z",
     "shell.execute_reply": "2024-09-26T16:38:32.774795Z"
    },
    "papermill": {
     "duration": 0.015939,
     "end_time": "2024-09-26T16:38:32.777647",
     "exception": false,
     "start_time": "2024-09-26T16:38:32.761708",
     "status": "completed"
    },
    "tags": []
   },
   "outputs": [],
   "source": [
    "# Input data files are available in the read-only \"../input/\" directory\n",
    "# Write up to 20GB to the current directory (/kaggle/working/) that gets preserved as output when you create a version using \"Save & Run All\" \n",
    "# Write temporary files to /kaggle/temp/, but they won't be saved outside of the current session"
   ]
  },
  {
   "cell_type": "code",
   "execution_count": 2,
   "id": "8df99065",
   "metadata": {
    "execution": {
     "iopub.execute_input": "2024-09-26T16:38:32.792505Z",
     "iopub.status.busy": "2024-09-26T16:38:32.792201Z",
     "iopub.status.idle": "2024-09-26T16:40:36.119178Z",
     "shell.execute_reply": "2024-09-26T16:40:36.118056Z"
    },
    "papermill": {
     "duration": 123.337361,
     "end_time": "2024-09-26T16:40:36.121805",
     "exception": false,
     "start_time": "2024-09-26T16:38:32.784444",
     "status": "completed"
    },
    "tags": []
   },
   "outputs": [
    {
     "name": "stdout",
     "output_type": "stream",
     "text": [
      "\u001b[31mERROR: pip's dependency resolver does not currently take into account all the packages that are installed. This behaviour is the source of the following dependency conflicts.\r\n",
      "cudf 24.8.3 requires cubinlinker, which is not installed.\r\n",
      "cudf 24.8.3 requires cupy-cuda11x>=12.0.0, which is not installed.\r\n",
      "cudf 24.8.3 requires ptxcompiler, which is not installed.\r\n",
      "cuml 24.8.0 requires cupy-cuda11x>=12.0.0, which is not installed.\r\n",
      "dask-cudf 24.8.3 requires cupy-cuda11x>=12.0.0, which is not installed.\r\n",
      "ucxx 0.39.1 requires libucx>=1.15.0, which is not installed.\r\n",
      "sqlalchemy 2.0.30 requires typing-extensions>=4.6.0, but you have typing-extensions 4.5.0 which is incompatible.\r\n",
      "albumentations 1.4.15 requires numpy>=1.24.4, but you have numpy 1.24.3 which is incompatible.\r\n",
      "altair 5.4.1 requires typing-extensions>=4.10.0; python_version < \"3.13\", but you have typing-extensions 4.5.0 which is incompatible.\r\n",
      "apache-beam 2.46.0 requires cloudpickle~=2.2.1, but you have cloudpickle 3.0.0 which is incompatible.\r\n",
      "apache-beam 2.46.0 requires dill<0.3.2,>=0.3.1.1, but you have dill 0.3.8 which is incompatible.\r\n",
      "apache-beam 2.46.0 requires pyarrow<10.0.0,>=3.0.0, but you have pyarrow 16.1.0 which is incompatible.\r\n",
      "bayesian-optimization 1.5.1 requires numpy>=1.25, but you have numpy 1.24.3 which is incompatible.\r\n",
      "bigframes 0.22.0 requires google-cloud-bigquery[bqstorage,pandas]>=3.10.0, but you have google-cloud-bigquery 2.34.4 which is incompatible.\r\n",
      "bigframes 0.22.0 requires google-cloud-storage>=2.0.0, but you have google-cloud-storage 1.44.0 which is incompatible.\r\n",
      "bigframes 0.22.0 requires pandas<2.1.4,>=1.5.0, but you have pandas 2.2.2 which is incompatible.\r\n",
      "cesium 0.12.3 requires numpy<3.0,>=2.0, but you have numpy 1.24.3 which is incompatible.\r\n",
      "cudf 24.8.3 requires cuda-python<12.0a0,>=11.7.1, but you have cuda-python 12.6.0 which is incompatible.\r\n",
      "dataproc-jupyter-plugin 0.1.79 requires pydantic~=1.10.0, but you have pydantic 2.9.2 which is incompatible.\r\n",
      "emoji 2.13.0 requires typing-extensions>=4.7.0, but you have typing-extensions 4.5.0 which is incompatible.\r\n",
      "fastapi 0.111.0 requires typing-extensions>=4.8.0, but you have typing-extensions 4.5.0 which is incompatible.\r\n",
      "featuretools 1.31.0 requires numpy>=1.25.0, but you have numpy 1.24.3 which is incompatible.\r\n",
      "gensim 4.3.3 requires scipy<1.14.0,>=1.7.0, but you have scipy 1.14.1 which is incompatible.\r\n",
      "ibis-framework 7.1.0 requires pyarrow<15,>=2, but you have pyarrow 16.1.0 which is incompatible.\r\n",
      "jupyterlab 4.2.5 requires jupyter-lsp>=2.0.0, but you have jupyter-lsp 1.5.1 which is incompatible.\r\n",
      "jupyterlab-lsp 5.1.0 requires jupyter-lsp>=2.0.0, but you have jupyter-lsp 1.5.1 which is incompatible.\r\n",
      "libpysal 4.9.2 requires packaging>=22, but you have packaging 21.3 which is incompatible.\r\n",
      "libpysal 4.9.2 requires shapely>=2.0.1, but you have shapely 1.8.5.post1 which is incompatible.\r\n",
      "pydantic 2.9.2 requires typing-extensions>=4.6.1; python_version < \"3.13\", but you have typing-extensions 4.5.0 which is incompatible.\r\n",
      "pydantic-core 2.23.4 requires typing-extensions!=4.7.0,>=4.6.0, but you have typing-extensions 4.5.0 which is incompatible.\r\n",
      "rmm 24.8.2 requires cuda-python<12.0a0,>=11.7.1, but you have cuda-python 12.6.0 which is incompatible.\r\n",
      "tensorflow-decision-forests 1.9.1 requires tensorflow~=2.16.1, but you have tensorflow 2.13.1 which is incompatible.\r\n",
      "tensorflow-decision-forests 1.9.1 requires tf-keras~=2.16, but you have tf-keras 2.15.0 which is incompatible.\r\n",
      "tensorflow-serving-api 2.16.1 requires tensorflow<3,>=2.16.1, but you have tensorflow 2.13.1 which is incompatible.\r\n",
      "torch 2.4.0 requires typing-extensions>=4.8.0, but you have typing-extensions 4.5.0 which is incompatible.\r\n",
      "typeguard 4.3.0 requires typing-extensions>=4.10.0, but you have typing-extensions 4.5.0 which is incompatible.\r\n",
      "woodwork 0.31.0 requires numpy>=1.25.0, but you have numpy 1.24.3 which is incompatible.\r\n",
      "xarray 2024.9.0 requires packaging>=23.1, but you have packaging 21.3 which is incompatible.\r\n",
      "ydata-profiling 4.10.0 requires scipy<1.14,>=1.4.1, but you have scipy 1.14.1 which is incompatible.\u001b[0m\u001b[31m\r\n",
      "\u001b[0m"
     ]
    }
   ],
   "source": [
    "# @title Installing & Importing Necessary Packages\n",
    "\n",
    "# Trying to repeat the steps using Tensorflow 2.15, 2.16, 2.17 versions shows errors downstream during classifier building with no easy workaround. So, staying with original 2.13 version used in sample code\n",
    "!pip install -U --quiet \"tensorflow-text==2.13.*\"\n",
    "!pip install --quiet \"tf-models-official==2.13.*\"\n",
    "\n",
    "# uncomment this if you dont want the installing logs, Warnings will still show up. \n",
    "# from IPython.display import clear_output\n",
    "# clear_output()\n",
    "\n",
    "\n",
    "import tensorflow as tf\n",
    "import tensorflow_hub as hub\n",
    "import tensorflow_text as text\n",
    "from official.nlp import optimization\n",
    "\n",
    "import matplotlib.pyplot as plt\n",
    "import pandas as pd\n",
    "from sklearn.model_selection import train_test_split\n",
    "\n",
    "import os\n",
    "import pickle\n",
    "import re\n",
    "import string\n",
    "\n",
    "tf.get_logger().setLevel('ERROR')\n"
   ]
  },
  {
   "cell_type": "code",
   "execution_count": 3,
   "id": "62b773a1",
   "metadata": {
    "execution": {
     "iopub.execute_input": "2024-09-26T16:40:36.137927Z",
     "iopub.status.busy": "2024-09-26T16:40:36.137314Z",
     "iopub.status.idle": "2024-09-26T16:40:37.533128Z",
     "shell.execute_reply": "2024-09-26T16:40:37.532222Z"
    },
    "papermill": {
     "duration": 1.406886,
     "end_time": "2024-09-26T16:40:37.535983",
     "exception": false,
     "start_time": "2024-09-26T16:40:36.129097",
     "status": "completed"
    },
    "tags": []
   },
   "outputs": [],
   "source": [
    "# Data Import from Notebook Dataset Input. \n",
    "df = pd.read_csv('/kaggle/input/imdb-dataset-of-50k-movie-reviews/IMDB Dataset.csv')\n",
    "\n",
    "# Uncomment and run the following if you are running outside of kaggle. \n",
    "# if not os.path.exists('IMDB Dataset.csv'):\n",
    "#     import kaggle\n",
    "#     !kaggle datasets download -d lakshmi25npathi/imdb-dataset-of-50k-movie-reviews\n",
    "#     !unzip imdb-dataset-of-50k-movie-reviews.zip\n",
    "#df = pd.read_csv('IMDB Dataset.csv')"
   ]
  },
  {
   "cell_type": "markdown",
   "id": "6730b734",
   "metadata": {
    "papermill": {
     "duration": 0.007524,
     "end_time": "2024-09-26T16:40:37.552059",
     "exception": false,
     "start_time": "2024-09-26T16:40:37.544535",
     "status": "completed"
    },
    "tags": []
   },
   "source": [
    "### Data Clean-Up\n",
    "* **Sentiment Encoding** : Convert sentiment labels to numerical values for machine learning compatibility.\n",
    "* **Text Cleaning**: Remove irrelevant characters and standardize reviews.\n",
    "* **Index Reset**: Ensure a consistent index after data cleaning."
   ]
  },
  {
   "cell_type": "code",
   "execution_count": 4,
   "id": "d5233c1b",
   "metadata": {
    "execution": {
     "iopub.execute_input": "2024-09-26T16:40:37.567636Z",
     "iopub.status.busy": "2024-09-26T16:40:37.567259Z",
     "iopub.status.idle": "2024-09-26T16:40:41.355653Z",
     "shell.execute_reply": "2024-09-26T16:40:41.354450Z"
    },
    "papermill": {
     "duration": 3.798951,
     "end_time": "2024-09-26T16:40:41.358071",
     "exception": false,
     "start_time": "2024-09-26T16:40:37.559120",
     "status": "completed"
    },
    "tags": []
   },
   "outputs": [],
   "source": [
    "# Map 'positive' to 1 and 'negative' to 0\n",
    "df['sentiment'] = df['sentiment'].map({'positive': 1, 'negative': 0})\n",
    "# Define a function that cleans the text in a single step like removing html tags, converting to lowercase, removing punctuations, removing number's etc that are slightly less relevant and more efficient when embedding.\n",
    "def clean_text(text):\n",
    "    text = re.sub('<[^<]+?>', '', text)\n",
    "    text = text.lower()\n",
    "    text = text.translate(str.maketrans('', '', string.punctuation))\n",
    "    text = re.sub(r'\\d+', '', text)\n",
    "    return text\n",
    "df.loc[:, 'review'] = df['review'].apply(clean_text)\n",
    "# Resetting Index to reflect Dropped Duplicates. else index would stay same from before causing KeyError when a dropped column is refered.\n",
    "df = df.reset_index(drop=True)"
   ]
  },
  {
   "cell_type": "markdown",
   "id": "d72cc6eb",
   "metadata": {
    "papermill": {
     "duration": 0.007784,
     "end_time": "2024-09-26T16:40:41.373710",
     "exception": false,
     "start_time": "2024-09-26T16:40:41.365926",
     "status": "completed"
    },
    "tags": []
   },
   "source": [
    "### Data Splitting\n",
    "\n",
    "In this section, the original dataset `df` is divided into three subsets:\n",
    "\n",
    "- **Training Set (train_df):** This will be used to train the machine learning model.\n",
    "- **Testing Set (test_df):** This will be used to evaluate the model's performance on unseen data.\n",
    "- **Validation Set (val_df):** This will be used for hyperparameter tuning and model selection during the development process.\n",
    "\n",
    "The splits are done using the `train_test_split` function from the `sklearn.model_selection` module. The `test_size` parameter controls the proportion of data allocated to each set. The `random_state` ensures reproducibility of the splits, and `shuffle=False` maintains the original order of the data."
   ]
  },
  {
   "cell_type": "code",
   "execution_count": 5,
   "id": "c8beee50",
   "metadata": {
    "execution": {
     "iopub.execute_input": "2024-09-26T16:40:41.390512Z",
     "iopub.status.busy": "2024-09-26T16:40:41.390066Z",
     "iopub.status.idle": "2024-09-26T16:40:41.412061Z",
     "shell.execute_reply": "2024-09-26T16:40:41.410631Z"
    },
    "papermill": {
     "duration": 0.032907,
     "end_time": "2024-09-26T16:40:41.414237",
     "exception": false,
     "start_time": "2024-09-26T16:40:41.381330",
     "status": "completed"
    },
    "tags": []
   },
   "outputs": [
    {
     "name": "stdout",
     "output_type": "stream",
     "text": [
      "Shapes of the split datasets: \n",
      "Training Set: (30000, 2)\n",
      "Testing Set: (10000, 2)\n",
      "Validation Set: (10000, 2)\n",
      "\n",
      "Example Row from Training Set:\n",
      "                                              review  sentiment\n",
      "0  one of the other reviewers has mentioned that ...          1\n",
      "\n",
      "Example Row from Testing Set:\n",
      "                                                  review  sentiment\n",
      "30000  one of quite a few cartoon scooby doo films sc...          1\n",
      "\n",
      "Example Row from Validation Set:\n",
      "                                                  review  sentiment\n",
      "40000  first off i want to say that i lean liberal on...          0\n"
     ]
    }
   ],
   "source": [
    "train_df, test_df = train_test_split(df, test_size=0.4, random_state=100, shuffle=False)\n",
    "test_df, val_df = train_test_split(test_df, test_size=0.5, random_state=100, shuffle=False)\n",
    "\n",
    "print(f\"Shapes of the split datasets: \\n\"\n",
    "      f\"Training Set: {train_df.shape}\\n\"\n",
    "      f\"Testing Set: {test_df.shape}\\n\"\n",
    "      f\"Validation Set: {val_df.shape}\")\n",
    "\n",
    "\n",
    "print(\"\\nExample Row from Training Set:\")\n",
    "print(train_df.head(1))\n",
    "\n",
    "print(\"\\nExample Row from Testing Set:\")\n",
    "print(test_df.head(1))\n",
    "\n",
    "print(\"\\nExample Row from Validation Set:\")\n",
    "print(val_df.head(1))\n",
    "\n",
    "# Ignore the index order as its not needed. "
   ]
  },
  {
   "cell_type": "markdown",
   "id": "8101d486",
   "metadata": {
    "papermill": {
     "duration": 0.007397,
     "end_time": "2024-09-26T16:40:41.429388",
     "exception": false,
     "start_time": "2024-09-26T16:40:41.421991",
     "status": "completed"
    },
    "tags": []
   },
   "source": [
    "### Dataset Conversion\n",
    "**TensorFlow Datasets**: Convert Pandas DataFrames (train_df, val_df, test_df) into TensorFlow Datasets (train_ds, val_ds, test_ds) for efficient data handling during model training and evaluation. The data is then batched with a size of 32 and prefetching is applied using `tf.data.AUTOTUNE` to optimize data loading performance.\n",
    "\n",
    "**Note** : I wanted to use GPU to train the model but, I still ended up training on Kaggle CPU Runtime because I couldn't figure out how to train it on GPU runtime even after playing around with it. I was able to work with GPU in Google Colab but the runtime abruptly disconnects sometimes during training due to inactivity hence I decided to move on use kaggle runtime. "
   ]
  },
  {
   "cell_type": "code",
   "execution_count": 6,
   "id": "72e336d8",
   "metadata": {
    "execution": {
     "iopub.execute_input": "2024-09-26T16:40:41.445458Z",
     "iopub.status.busy": "2024-09-26T16:40:41.445005Z",
     "iopub.status.idle": "2024-09-26T16:40:41.768735Z",
     "shell.execute_reply": "2024-09-26T16:40:41.767207Z"
    },
    "papermill": {
     "duration": 0.334789,
     "end_time": "2024-09-26T16:40:41.771443",
     "exception": false,
     "start_time": "2024-09-26T16:40:41.436654",
     "status": "completed"
    },
    "tags": []
   },
   "outputs": [
    {
     "name": "stdout",
     "output_type": "stream",
     "text": [
      "Shape of reviews in a training batch: (32,)\n",
      "Shape of labels in a training batch: (32,)\n",
      "Shape of reviews in a validation batch: (32,)\n",
      "Shape of labels in a validation batch: (32,)\n",
      "Shape of reviews in a testing batch: (32,)\n",
      "Shape of labels in a testing batch: (32,)\n"
     ]
    }
   ],
   "source": [
    "# Convert DataFrames to TensorFlow Datasets\n",
    "train_ds = tf.data.Dataset.from_tensor_slices((train_df['review'].values, train_df['sentiment'].values))\n",
    "val_ds = tf.data.Dataset.from_tensor_slices((val_df['review'].values, val_df['sentiment'].values))\n",
    "test_ds = tf.data.Dataset.from_tensor_slices((test_df['review'].values, test_df['sentiment'].values))\n",
    "\n",
    "# Batching and prefetching\n",
    "AUTOTUNE = tf.data.AUTOTUNE\n",
    "batch_size = 32\n",
    "train_ds = train_ds.batch(batch_size).prefetch(buffer_size=AUTOTUNE)\n",
    "val_ds = val_ds.batch(batch_size).prefetch(buffer_size=AUTOTUNE)\n",
    "test_ds = test_ds.batch(batch_size).prefetch(buffer_size=AUTOTUNE)\n",
    "\n",
    "# Print shapes of the first batch in each dataset just to show batching\n",
    "for reviews, labels in train_ds.take(1):\n",
    "    print(f\"Shape of reviews in a training batch: {reviews.shape}\")\n",
    "    print(f\"Shape of labels in a training batch: {labels.shape}\")\n",
    "\n",
    "for reviews, labels in val_ds.take(1):\n",
    "    print(f\"Shape of reviews in a validation batch: {reviews.shape}\")\n",
    "    print(f\"Shape of labels in a validation batch: {labels.shape}\")\n",
    "\n",
    "for reviews, labels in test_ds.take(1):\n",
    "    print(f\"Shape of reviews in a testing batch: {reviews.shape}\")\n",
    "    print(f\"Shape of labels in a testing batch: {labels.shape}\")"
   ]
  },
  {
   "cell_type": "markdown",
   "id": "c0f9fafe",
   "metadata": {
    "papermill": {
     "duration": 0.008145,
     "end_time": "2024-09-26T16:40:41.787887",
     "exception": false,
     "start_time": "2024-09-26T16:40:41.779742",
     "status": "completed"
    },
    "tags": []
   },
   "source": [
    "### BERT model loading and preprocessing\n",
    "This code sets up a BERT model for text processing. It uses a smaller BERT variant (`small_bert/bert_en_uncased_L-4_H-512_A-8`) from TensorFlow Hub. Two components are loaded: a preprocessing layer (`bert_preprocess_model`) to prepare input text, and the BERT encoder (`bert_model`) to extract meaningful features from the text. The encoder is set to be trainable, allowing fine-tuning during training."
   ]
  },
  {
   "cell_type": "code",
   "execution_count": 7,
   "id": "27a071f2",
   "metadata": {
    "execution": {
     "iopub.execute_input": "2024-09-26T16:40:41.806927Z",
     "iopub.status.busy": "2024-09-26T16:40:41.805862Z",
     "iopub.status.idle": "2024-09-26T16:40:50.222170Z",
     "shell.execute_reply": "2024-09-26T16:40:50.221209Z"
    },
    "papermill": {
     "duration": 8.42855,
     "end_time": "2024-09-26T16:40:50.224620",
     "exception": false,
     "start_time": "2024-09-26T16:40:41.796070",
     "status": "completed"
    },
    "tags": []
   },
   "outputs": [
    {
     "name": "stdout",
     "output_type": "stream",
     "text": [
      "BERT Preprocess Model Summary:\n",
      "{'name': 'keras_layer', 'trainable': False, 'dtype': 'float32', 'handle': 'https://tfhub.dev/tensorflow/bert_en_uncased_preprocess/3'}\n",
      "\n",
      "BERT Model Summary:\n",
      "{'name': 'BERT_encoder', 'trainable': True, 'dtype': 'float32', 'handle': 'https://tfhub.dev/tensorflow/small_bert/bert_en_uncased_L-4_H-512_A-8/1'}\n"
     ]
    }
   ],
   "source": [
    "bert_model_name = 'small_bert/bert_en_uncased_L-4_H-512_A-8'\n",
    "tfhub_handle_encoder = 'https://tfhub.dev/tensorflow/small_bert/bert_en_uncased_L-4_H-512_A-8/1'\n",
    "tfhub_handle_preprocess = 'https://tfhub.dev/tensorflow/bert_en_uncased_preprocess/3'\n",
    "bert_preprocess_model = hub.KerasLayer(tfhub_handle_preprocess)\n",
    "bert_model = hub.KerasLayer(tfhub_handle_encoder, trainable=True, name='BERT_encoder')\n",
    "\n",
    "# Simple check: Print the model summaries\n",
    "print(\"BERT Preprocess Model Summary:\")\n",
    "print(bert_preprocess_model.get_config())\n",
    "\n",
    "print(\"\\nBERT Model Summary:\")\n",
    "print(bert_model.get_config())"
   ]
  },
  {
   "cell_type": "markdown",
   "id": "43eaf466",
   "metadata": {
    "papermill": {
     "duration": 0.007017,
     "end_time": "2024-09-26T16:40:50.238889",
     "exception": false,
     "start_time": "2024-09-26T16:40:50.231872",
     "status": "completed"
    },
    "tags": []
   },
   "source": [
    "### Model definition\n",
    "- **Define Input Layer**: The model starts with a text input layer (`text_input`) that accepts strings as input.\n",
    "- **Preprocessing**: A preprocessing layer (`preprocessing_layer`) is added using the BERT preprocessing model from TensorFlow Hub. It prepares the input text for the BERT encoder.\n",
    "- **BERT Encoder**: The preprocessed text is passed into a trainable BERT encoder (`encoder`), which extracts features from the input.\n",
    "- **Pooling Output**: The model uses the `pooled_output` from the encoder (representing the entire input text) as the feature vector.\n",
    "- **Dropout**: A dropout layer (`Dropout(0.1)`) is applied to reduce overfitting by randomly deactivating 10% of the neurons.\n",
    "- **Dense Layer**: Finally, a dense layer with one output neuron (`Dense(1)`) is added for binary classification (sentiment prediction).\n",
    "- **Build Model**: The function returns the full classifier model, combining all layers.\n",
    "\n",
    "The model is built and ready for use.\n",
    "\n",
    "### Loss, Metrics, and Optimizer Setup\n",
    "\n",
    "- **Loss Function**: \n",
    "  - `tf.keras.losses.BinaryCrossentropy(from_logits=True)` is used as the loss function. It computes the binary cross-entropy loss, which is ideal for binary classification tasks (e.g., positive vs. negative sentiment). The `from_logits=True` argument indicates that the output of the model is raw scores (logits) that need to be transformed into probabilities.\n",
    "\n",
    "- **Metrics**: \n",
    "  - `tf.metrics.BinaryAccuracy()` is set as the evaluation metric. This metric calculates the accuracy of the model, measuring how often the predictions match the true labels.\n",
    "\n",
    "These configurations are essential for training a binary classifier model, where the goal is to minimize the cross-entropy loss and maximize accu"
   ]
  },
  {
   "cell_type": "code",
   "execution_count": 8,
   "id": "1c8cf9d2",
   "metadata": {
    "execution": {
     "iopub.execute_input": "2024-09-26T16:40:50.254497Z",
     "iopub.status.busy": "2024-09-26T16:40:50.254139Z",
     "iopub.status.idle": "2024-09-26T16:40:50.269616Z",
     "shell.execute_reply": "2024-09-26T16:40:50.268846Z"
    },
    "papermill": {
     "duration": 0.025862,
     "end_time": "2024-09-26T16:40:50.271699",
     "exception": false,
     "start_time": "2024-09-26T16:40:50.245837",
     "status": "completed"
    },
    "tags": []
   },
   "outputs": [],
   "source": [
    "loss = tf.keras.losses.BinaryCrossentropy(from_logits=True)\n",
    "metrics = tf.metrics.BinaryAccuracy()"
   ]
  },
  {
   "cell_type": "code",
   "execution_count": 9,
   "id": "caf8644a",
   "metadata": {
    "execution": {
     "iopub.execute_input": "2024-09-26T16:40:50.288947Z",
     "iopub.status.busy": "2024-09-26T16:40:50.288614Z",
     "iopub.status.idle": "2024-09-26T16:40:58.086207Z",
     "shell.execute_reply": "2024-09-26T16:40:58.084909Z"
    },
    "papermill": {
     "duration": 7.808798,
     "end_time": "2024-09-26T16:40:58.088466",
     "exception": false,
     "start_time": "2024-09-26T16:40:50.279668",
     "status": "completed"
    },
    "tags": []
   },
   "outputs": [
    {
     "name": "stdout",
     "output_type": "stream",
     "text": [
      "Model diagram saved at: /kaggle/working/classifier_model_diagram.png\n"
     ]
    }
   ],
   "source": [
    "def build_classifier_model():\n",
    "  text_input = tf.keras.layers.Input(shape=(), dtype=tf.string, name='text')\n",
    "  preprocessing_layer = hub.KerasLayer(tfhub_handle_preprocess, name='preprocessing')\n",
    "  encoder_inputs = preprocessing_layer(text_input)\n",
    "  encoder = hub.KerasLayer(tfhub_handle_encoder, trainable=True, name='BERT_encoder')\n",
    "  outputs = encoder(encoder_inputs)\n",
    "  net = outputs['pooled_output']\n",
    "  net = tf.keras.layers.Dropout(0.1)(net)\n",
    "  net = tf.keras.layers.Dense(1, activation=None, name='classifier')(net)\n",
    "  return tf.keras.Model(text_input, net)\n",
    "\n",
    "classifier_model = build_classifier_model()\n",
    "\n",
    "# # The code below will create a diagram of the classifier_model with the shapes of the inputs and outputs displayed. \n",
    "model_diagram_path = '/kaggle/working/classifier_model_diagram.png'\n",
    "tf.keras.utils.plot_model(classifier_model, to_file=model_diagram_path, show_shapes=True, dpi=64)\n",
    "\n",
    "print(f\"Model diagram saved at: {model_diagram_path}\")"
   ]
  },
  {
   "cell_type": "markdown",
   "id": "59163b6a",
   "metadata": {
    "papermill": {
     "duration": 0.007956,
     "end_time": "2024-09-26T16:40:58.104353",
     "exception": false,
     "start_time": "2024-09-26T16:40:58.096397",
     "status": "completed"
    },
    "tags": []
   },
   "source": [
    "### Model Training Setup\n",
    "\n",
    "- **Epochs**: The model will be trained for 5 epochs (`epochs = 5`).\n",
    "- **Steps per Epoch**: The number of steps in each epoch is calculated based on the dataset size and batch size (`steps_per_epoch = train_df.shape[0] // batch_size`).\n",
    "- **Training Steps**: The total number of training steps is determined by multiplying steps per epoch and epochs (`num_train_steps = steps_per_epoch * epochs`).\n",
    "- **Warmup Steps**: 10% of the training steps are used for learning rate warmup (`num_warmup_steps = int(0.1 * num_train_steps)`).\n",
    "- **Optimizer**: An AdamW optimizer is created with a learning rate of `3e-5`. It incorporates warmup steps (`optimizer_type='adamw'`).\n",
    "- **Model Compilation**: The model is compiled with the AdamW optimizer, binary cross-entropy loss, and binary accuracy metrics.\n",
    "- **Training**: The model is trained using the training dataset (`train_ds`), validated on the validation dataset (`val_ds`), and trained for 5 epochs.\n"
   ]
  },
  {
   "cell_type": "code",
   "execution_count": 10,
   "id": "c23b2a08",
   "metadata": {
    "execution": {
     "iopub.execute_input": "2024-09-26T16:40:58.122001Z",
     "iopub.status.busy": "2024-09-26T16:40:58.121542Z",
     "iopub.status.idle": "2024-09-26T21:32:55.076237Z",
     "shell.execute_reply": "2024-09-26T21:32:55.074927Z"
    },
    "papermill": {
     "duration": 17516.966729,
     "end_time": "2024-09-26T21:32:55.079172",
     "exception": false,
     "start_time": "2024-09-26T16:40:58.112443",
     "status": "completed"
    },
    "tags": []
   },
   "outputs": [
    {
     "name": "stdout",
     "output_type": "stream",
     "text": [
      "Number of training steps: 4685\n",
      "Number of warmup steps: 468\n",
      "Initial learning rate: 3e-05\n",
      "Batch size: 32\n",
      "Setup Complete : Training the model for 5 epochs.\n",
      "Epoch 1/5\n",
      "938/938 [==============================] - 3158s 3s/step - loss: 0.4537 - binary_accuracy: 0.7663 - val_loss: 0.3513 - val_binary_accuracy: 0.8507\n",
      "Epoch 2/5\n",
      "938/938 [==============================] - 3272s 3s/step - loss: 0.3041 - binary_accuracy: 0.8665 - val_loss: 0.3345 - val_binary_accuracy: 0.8555\n",
      "Epoch 3/5\n",
      "938/938 [==============================] - 3567s 4s/step - loss: 0.2297 - binary_accuracy: 0.9062 - val_loss: 0.3511 - val_binary_accuracy: 0.8705\n",
      "Epoch 4/5\n",
      "938/938 [==============================] - 3525s 4s/step - loss: 0.1755 - binary_accuracy: 0.9336 - val_loss: 0.3951 - val_binary_accuracy: 0.8684\n",
      "Epoch 5/5\n",
      "938/938 [==============================] - 3521s 4s/step - loss: 0.1372 - binary_accuracy: 0.9487 - val_loss: 0.4352 - val_binary_accuracy: 0.8717\n",
      "Training Complete : Evaluating the model.\n",
      "313/313 [==============================] - 278s 886ms/step - loss: 0.4477 - binary_accuracy: 0.8694\n",
      "Loss: 0.4476686418056488\n",
      "Accuracy: 0.8694000244140625\n"
     ]
    }
   ],
   "source": [
    "epochs = 5  # change to 5, currently setting to 1 just to debug things in Full Auto Run Pipeline.\n",
    "steps_per_epoch = train_df.shape[0] // batch_size\n",
    "num_train_steps = steps_per_epoch * epochs\n",
    "num_warmup_steps = int(0.1*num_train_steps)\n",
    "init_lr = 3e-5\n",
    "optimizer = optimization.create_optimizer(init_lr=init_lr,\n",
    "                                          num_train_steps=num_train_steps,\n",
    "                                          num_warmup_steps=num_warmup_steps,\n",
    "                                          optimizer_type='adamw')\n",
    "classifier_model.compile(optimizer=optimizer,\n",
    "                         loss=loss,\n",
    "                         metrics=metrics)\n",
    "\n",
    "# Print values for Kaggle logs\n",
    "print(f\"Number of training steps: {num_train_steps}\")\n",
    "print(f\"Number of warmup steps: {num_warmup_steps}\")\n",
    "print(f\"Initial learning rate: {init_lr}\")\n",
    "print(f\"Batch size: {batch_size}\")\n",
    "\n",
    "print(f\"Setup Complete : Training the model for {epochs} epochs.\")\n",
    "history = classifier_model.fit(\n",
    "  x=train_ds,\n",
    "  validation_data=val_ds,\n",
    "  epochs=epochs\n",
    ")\n",
    "print(f\"Training Complete : Evaluating the model.\")\n",
    "loss, accuracy = classifier_model.evaluate(test_ds)\n",
    "print(f'Loss: {loss}')\n",
    "print(f'Accuracy: {accuracy}')"
   ]
  },
  {
   "cell_type": "code",
   "execution_count": 11,
   "id": "13585469",
   "metadata": {
    "execution": {
     "iopub.execute_input": "2024-09-26T21:32:56.006515Z",
     "iopub.status.busy": "2024-09-26T21:32:56.005692Z",
     "iopub.status.idle": "2024-09-26T21:32:56.740716Z",
     "shell.execute_reply": "2024-09-26T21:32:56.739653Z"
    },
    "papermill": {
     "duration": 1.202829,
     "end_time": "2024-09-26T21:32:56.743820",
     "exception": false,
     "start_time": "2024-09-26T21:32:55.540991",
     "status": "completed"
    },
    "tags": []
   },
   "outputs": [
    {
     "data": {
      "text/plain": [
       "<matplotlib.legend.Legend at 0x7d4e683e7e20>"
      ]
     },
     "execution_count": 11,
     "metadata": {},
     "output_type": "execute_result"
    },
    {
     "data": {
      "image/png": "[encoded data removed]",
      "text/plain": [
       "<Figure size 1000x600 with 2 Axes>"
      ]
     },
     "metadata": {},
     "output_type": "display_data"
    }
   ],
   "source": [
    "# Extract history metrics\n",
    "history_dict = history.history\n",
    "acc = history_dict['binary_accuracy']\n",
    "val_acc = history_dict['val_binary_accuracy']\n",
    "loss = history_dict['loss']\n",
    "val_loss = history_dict['val_loss']\n",
    "\n",
    "# Plotting training and validation metrics\n",
    "epochs = range(1, len(acc) + 1)\n",
    "fig = plt.figure(figsize=(10, 6))\n",
    "fig.tight_layout()\n",
    "\n",
    "# Plot Loss\n",
    "plt.subplot(2, 1, 1)\n",
    "plt.plot(epochs, loss, 'r', label='Training Loss')\n",
    "plt.plot(epochs, val_loss, 'b', label='Validation Loss')\n",
    "plt.title('Training and Validation Loss')\n",
    "plt.ylabel('Loss')\n",
    "plt.legend()\n",
    "\n",
    "# Plot Accuracy\n",
    "plt.subplot(2, 1, 2)\n",
    "plt.plot(epochs, acc, 'r', label='Training Accuracy')\n",
    "plt.plot(epochs, val_acc, 'b', label='Validation Accuracy')\n",
    "plt.title('Training and Validation Accuracy')\n",
    "plt.xlabel('Epochs')\n",
    "plt.ylabel('Accuracy')\n",
    "plt.legend(loc='lower right')"
   ]
  },
  {
   "cell_type": "code",
   "execution_count": 12,
   "id": "af05fdd2",
   "metadata": {
    "execution": {
     "iopub.execute_input": "2024-09-26T21:32:57.716881Z",
     "iopub.status.busy": "2024-09-26T21:32:57.716473Z",
     "iopub.status.idle": "2024-09-26T21:32:58.473351Z",
     "shell.execute_reply": "2024-09-26T21:32:58.472185Z"
    },
    "papermill": {
     "duration": 1.218065,
     "end_time": "2024-09-26T21:32:58.475797",
     "exception": false,
     "start_time": "2024-09-26T21:32:57.257732",
     "status": "completed"
    },
    "tags": []
   },
   "outputs": [
    {
     "data": {
      "text/plain": [
       "<Axes: title={'center': 'Training and Validation Accuracy'}>"
      ]
     },
     "execution_count": 12,
     "metadata": {},
     "output_type": "execute_result"
    },
    {
     "data": {
      "image/png": "[encoded data removed]",
      "text/plain": [
       "<Figure size 1000x600 with 1 Axes>"
      ]
     },
     "metadata": {},
     "output_type": "display_data"
    },
    {
     "data": {
      "image/png": "[encoded data removed]",
      "text/plain": [
       "<Figure size 1000x600 with 1 Axes>"
      ]
     },
     "metadata": {},
     "output_type": "display_data"
    }
   ],
   "source": [
    "# Create dataframe from history metrics\n",
    "df = pd.DataFrame(history.history)\n",
    "\n",
    "# Plot\n",
    "df[['loss', 'val_loss']].plot(title='Training and Validation Loss', figsize=(10, 6))\n",
    "df[['binary_accuracy', 'val_binary_accuracy']].plot(title='Training and Validation Accuracy', figsize=(10, 6))"
   ]
  },
  {
   "cell_type": "code",
   "execution_count": 13,
   "id": "49556df9",
   "metadata": {
    "execution": {
     "iopub.execute_input": "2024-09-26T21:32:59.419583Z",
     "iopub.status.busy": "2024-09-26T21:32:59.419153Z",
     "iopub.status.idle": "2024-09-26T21:33:06.598027Z",
     "shell.execute_reply": "2024-09-26T21:33:06.596810Z"
    },
    "papermill": {
     "duration": 7.654398,
     "end_time": "2024-09-26T21:33:06.600553",
     "exception": false,
     "start_time": "2024-09-26T21:32:58.946155",
     "status": "completed"
    },
    "tags": []
   },
   "outputs": [
    {
     "name": "stdout",
     "output_type": "stream",
     "text": [
      "SavedModel directory: /kaggle/working/movie-review-classifier\n",
      "Pickle file: classifier_model.pkl\n",
      "Model saved and reloaded successfully.\n"
     ]
    }
   ],
   "source": [
    "# Saving the model for Cloud Run\n",
    "model_name = 'movie-review-classifier'\n",
    "saved_model_path = f'/kaggle/working/{model_name}'\n",
    "classifier_model.save(saved_model_path, include_optimizer=False)\n",
    "\n",
    "# Saving the model as a pickle file\n",
    "with open('classifier_model.pkl', 'wb') as f:\n",
    "    pickle.dump(classifier_model, f)\n",
    "\n",
    "print(f\"SavedModel directory: {saved_model_path}\")  # For Cloud Run\n",
    "print(\"Pickle file: classifier_model.pkl\")           # For general use\n",
    "print(\"Model saved and reloaded successfully.\")\n"
   ]
  },
  {
   "cell_type": "code",
   "execution_count": 14,
   "id": "573d0f7b",
   "metadata": {
    "execution": {
     "iopub.execute_input": "2024-09-26T21:33:07.639940Z",
     "iopub.status.busy": "2024-09-26T21:33:07.639518Z",
     "iopub.status.idle": "2024-09-26T21:33:16.025562Z",
     "shell.execute_reply": "2024-09-26T21:33:16.024323Z"
    },
    "papermill": {
     "duration": 8.87161,
     "end_time": "2024-09-26T21:33:16.027984",
     "exception": false,
     "start_time": "2024-09-26T21:33:07.156374",
     "status": "completed"
    },
    "tags": []
   },
   "outputs": [
    {
     "name": "stdout",
     "output_type": "stream",
     "text": [
      "<tensorflow.python.saved_model.load.Loader._recreate_base_user_object.<locals>._UserObject object at 0x7d4e510afeb0>\n"
     ]
    }
   ],
   "source": [
    "# Reloading the model to confirm it was saved correctly\n",
    "reloaded_model = tf.saved_model.load(saved_model_path)\n",
    "print(reloaded_model)"
   ]
  },
  {
   "cell_type": "markdown",
   "id": "0c89c927",
   "metadata": {
    "papermill": {
     "duration": 0.478374,
     "end_time": "2024-09-26T21:33:16.981847",
     "exception": false,
     "start_time": "2024-09-26T21:33:16.503473",
     "status": "completed"
    },
    "tags": []
   },
   "source": [
    "### Summary of Model Creation and Usage\n",
    "\n",
    "- **Model Setup**: A binary text classification model using BERT was built to predict sentiment (positive or negative) from text. The configuration includes a binary cross-entropy loss function, accuracy metrics, and an AdamW optimizer for training.\n",
    "\n",
    "- **Training**: The model was trained on a dataset of movie reviews for 5 epochs. BERT encodes the text, a dropout layer helps prevent overfitting, and the output provides a binary sentiment prediction.\n",
    "\n",
    "- **How to Use the Model**:\n",
    "  1. **Input**: Provide text reviews for prediction.\n",
    "  2. **Preprocessing**: Input reviews are preprocessed using the BERT preprocessing layer.\n",
    "  3. **Prediction**: Use `classifier_model.predict()` to get predictions on the preprocessed text. A positive score indicates positive sentiment, while a negative score indicates negative sentiment.\n",
    "\n",
    "- **Example Usage**: Test the model by providing movie reviews. After preprocessing, the model predicts the sentiment and assigns a score to each review.\n",
    "\n",
    "- **Saving the Model**: Save the trained model using the `pickle` library:\n",
    "  ```python\n",
    "  with open('classifier_model.pkl', 'wb') as f:\n",
    "      pickle.dump(classifier_model, f)\n"
   ]
  },
  {
   "cell_type": "code",
   "execution_count": 15,
   "id": "72bbae5f",
   "metadata": {
    "execution": {
     "iopub.execute_input": "2024-09-26T21:33:17.999645Z",
     "iopub.status.busy": "2024-09-26T21:33:17.998798Z",
     "iopub.status.idle": "2024-09-26T21:33:18.004979Z",
     "shell.execute_reply": "2024-09-26T21:33:18.003886Z"
    },
    "papermill": {
     "duration": 0.543727,
     "end_time": "2024-09-26T21:33:18.007398",
     "exception": false,
     "start_time": "2024-09-26T21:33:17.463671",
     "status": "completed"
    },
    "tags": []
   },
   "outputs": [],
   "source": [
    "test_reviews = [\n",
    "    [\"This movie was absolutely fantastic! The acting was superb, the story was gripping, and the visuals were stunning. I highly recommend it.\", \"Positive\"],\n",
    "    [\"I was thoroughly disappointed with this film. The plot was predictable, the acting was subpar, and the pacing was slow. Save your money.\", \"Negative\"],\n",
    "    [\"This movie was a complete waste of time. The story made no sense, the characters were unlikeable, and the ending was unsatisfying.\", \"Negative\"],\n",
    "    [\"I absolutely loved this movie! It was funny, heartwarming, and thought-provoking. I can't wait to watch it again.\", \"Positive\"]\n",
    "]\n",
    "# some example reviews with their expected prediction.\n",
    "# This model only handles Positive vs Negative with a score. Not Neutral. You may use the score to determine Neutral Reviews"
   ]
  },
  {
   "cell_type": "code",
   "execution_count": 16,
   "id": "a69a05c9",
   "metadata": {
    "execution": {
     "iopub.execute_input": "2024-09-26T21:33:18.964277Z",
     "iopub.status.busy": "2024-09-26T21:33:18.963128Z",
     "iopub.status.idle": "2024-09-26T21:33:19.662839Z",
     "shell.execute_reply": "2024-09-26T21:33:19.661228Z"
    },
    "papermill": {
     "duration": 1.180013,
     "end_time": "2024-09-26T21:33:19.665236",
     "exception": false,
     "start_time": "2024-09-26T21:33:18.485223",
     "status": "completed"
    },
    "tags": []
   },
   "outputs": [
    {
     "name": "stdout",
     "output_type": "stream",
     "text": [
      "1/1 [==============================] - 1s 628ms/step\n",
      "Review (First 50 chars)                            | Expected Prediction | Prediction Made | Score     \n",
      "------------------------------------------------------------------------------------------\n",
      "This movie was absolutely fantastic! The acting wa | Positive        | Positive        | 6.3538    \n",
      "I was thoroughly disappointed with this film. The  | Negative        | Negative        | -6.6555   \n",
      "This movie was a complete waste of time. The story | Negative        | Negative        | -7.0820   \n",
      "I absolutely loved this movie! It was funny, heart | Positive        | Positive        | 6.7379    \n"
     ]
    }
   ],
   "source": [
    "\n",
    "def predict_sentiment(reviews):\n",
    "  predictions = classifier_model.predict(reviews)\n",
    "  results = []\n",
    "  for review, prediction in zip(reviews, predictions):\n",
    "      score = prediction[0]\n",
    "      sentiment = \"Positive\" if score > 0 else \"Negative\"\n",
    "      results.append((review, sentiment, score))\n",
    "  return results\n",
    "\n",
    "review_texts = [review[0] for review in test_reviews]\n",
    "expected_predictions = [review[1] for review in test_reviews]\n",
    "predictions = predict_sentiment(review_texts)\n",
    "\n",
    "print(\"{:<50} | {:<15} | {:<15} | {:<10}\".format(\"Review (First 50 chars)\", \"Expected Prediction\", \"Prediction Made\", \"Score\"))\n",
    "print(\"-\" * 90)\n",
    "\n",
    "for review, expected_prediction, (predicted_review, predicted_sentiment, score) in zip(review_texts, expected_predictions, predictions):\n",
    "  print(\"{:<50} | {:<15} | {:<15} | {:<10.4f}\".format(review[:50], expected_prediction, predicted_sentiment, score))\n"
   ]
  },
  {
   "cell_type": "markdown",
   "id": "3a80c3e9",
   "metadata": {
    "papermill": {
     "duration": 0.482313,
     "end_time": "2024-09-26T21:33:20.629905",
     "exception": false,
     "start_time": "2024-09-26T21:33:20.147592",
     "status": "completed"
    },
    "tags": []
   },
   "source": [
    "### Credits \n",
    "**Dataset** : Lakshmipathi N [lakshmi25npathi]. IMDB Dataset of 50K Movie Reviews.\n",
    "kaggle.com Accessed September 25, 2024\n",
    "\n",
    "**Sample Codes** : Copyright 2020 The TensorFlow Hub Authors. TensorFlow. (2024). text (Version master) \n",
    "[GitHub repository]. https://github.com/tensorflow/text/tree/master/docs/tutorials. Accessed September 26, 2024\n",
    "\n",
    "**Challenge Program** : fellowship.ai. September 2024\n",
    "\n",
    "Notebook by @arjunraghunandanan 2024"
   ]
  }
 ],
 "metadata": {
  "kaggle": {
   "accelerator": "none",
   "dataSources": [
    {
     "datasetId": 134715,
     "sourceId": 320111,
     "sourceType": "datasetVersion"
    }
   ],
   "dockerImageVersionId": 30776,
   "isGpuEnabled": false,
   "isInternetEnabled": true,
   "language": "python",
   "sourceType": "notebook"
  },
  "kernelspec": {
   "display_name": "Python 3",
   "language": "python",
   "name": "python3"
  },
  "language_info": {
   "codemirror_mode": {
    "name": "ipython",
    "version": 3
   },
   "file_extension": ".py",
   "mimetype": "text/x-python",
   "name": "python",
   "nbconvert_exporter": "python",
   "pygments_lexer": "ipython3",
   "version": "3.10.14"
  },
  "papermill": {
   "default_parameters": {},
   "duration": 17694.665198,
   "end_time": "2024-09-26T21:33:24.392564",
   "environment_variables": {},
   "exception": null,
   "input_path": "__notebook__.ipynb",
   "output_path": "__notebook__.ipynb",
   "parameters": {},
   "start_time": "2024-09-26T16:38:29.727366",
   "version": "2.6.0"
  }
 },
 "nbformat": 4,
 "nbformat_minor": 5
}
